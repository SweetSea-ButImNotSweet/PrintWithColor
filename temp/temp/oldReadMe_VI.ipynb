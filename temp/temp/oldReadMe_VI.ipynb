{
 "cells": [
  {
   "cell_type": "markdown",
   "metadata": {},
   "source": [
    "# **PrintWithColor**\n",
    "\n",
    "Một wrapper nhỏ nhắn xinh xắn dùng để buff lệnh print() bằng cách thêm tính năng bôi màu cho chữ<br>Đảm bảo mấy đứa newbie Python nhìn xong làm thử báo lỗi tè le sẽ bái phục bạn :>>><br>(Yên tâm, cả PrintWithColor và colorama đều viết bằng Python hết nhé!)"
   ]
  },
  {
   "cell_type": "markdown",
   "metadata": {},
   "source": [
    "# **CÀI ĐẶT**<br>\n",
    "Có 2 cách để nạp vào nhé :> tuỳ bạn chọn"
   ]
  },
  {
   "cell_type": "code",
   "execution_count": null,
   "metadata": {},
   "outputs": [],
   "source": [
    "from PrintWithColor import printc as print"
   ]
  },
  {
   "cell_type": "markdown",
   "metadata": {},
   "source": [
    "# **VÍ DỤ**\n",
    "Đây là ví dụ của PrintWithColor, bạn có thể chọn một trong những cái này để xem!"
   ]
  },
  {
   "cell_type": "markdown",
   "metadata": {},
   "source": [
    "### **CÚ PHÁP của PrintWithColor**"
   ]
  },
  {
   "cell_type": "code",
   "execution_count": null,
   "metadata": {},
   "outputs": [],
   "source": [
    "from PrintWithColor import printc as print\n",
    "print('Hello, I am a green line!', f = 'green', b= 'black')\n",
    "print('Or a line with a cyan background', f = 'black', b = 'cyan')"
   ]
  },
  {
   "cell_type": "markdown",
   "metadata": {},
   "source": [
    "### Đối số trong lệnh print() **của Python**"
   ]
  },
  {
   "cell_type": "markdown",
   "metadata": {},
   "source": [
    "| Đối số        | Mô tả                                                                                   | Mặc định |\n",
    "|---------------|-----------------------------------------------------------------------------------------|----------|\n",
    "| textfrominput | Nội dung bạn muốn gõ để hiện thỉ theo mặc định, cho phép sử dụng nhiều đối số           | Bất kỳ   |\n",
    "| sep           | Là dấu phân cách giữa các đối số (nếu chỉ có 1 đối số textfrominput thì ko có tác dụng) | ' '      |\n",
    "| end           | Kí tự kết thúc, chỉ tác dụng khi có 1 đối số/tới đối số cuối cùng của textfrominput     | '\\n'     |\n",
    "| file          | Nơi xuất màn hình, trong wrapper này sẽ sử dụng proxy object từ colorama<br>Lưu ý là nếu đối số file là một tệp viết được, theo như lệnh print() gốc, máy sẽ viết ra tệp. Nếu có tệp mà không viết được thì sẽ __báo lỗi__ [1] | None      |\n",
    "| flush         | Có dọn bộ đệm khi in kết quả không                                                      | False    |"
   ]
  },
  {
   "cell_type": "markdown",
   "metadata": {},
   "source": [
    "### Đối số trong lệnh print() **của PrintWithColor**"
   ]
  },
  {
   "cell_type": "markdown",
   "metadata": {},
   "source": [
    "| Đối số        | Mô tả                                                                                   | Mặc định |\n",
    "|---------------|-----------------------------------------------------------------------------------------|----------|\n",
    "| textfrominput | Nội dung bạn muốn gõ để hiện thỉ theo mặc định, cho phép sử dụng nhiều đối số           | Bất kỳ   |\n",
    "| sep           | Là dấu phân cách giữa các đối số (nếu chỉ có 1 đối số textfrominput thì ko có tác dụng) | ' '      |\n",
    "| end           | Kí tự kết thúc, chỉ tác dụng khi có 1 đối số/tới đối số cuối cùng của textfrominput     | '\\n'     |\n",
    "| file          | Nơi xuất màn hình, trong wrapper này sẽ sử dụng proxy object từ colorama<br>Lưu ý là nếu đối số file là một tệp viết được, theo như lệnh print() gốc, máy sẽ viết ra tệp. Nếu có tệp mà không viết được thì sẽ __vẫn in ra trên màn hình__ [1] | None      |\n",
    "| flush         | Có dọn bộ đệm khi in kết quả không                                                      | False    |\n",
    "||||\n",
    "| f             | Màu của chữ [2] [3]                                                                     | WHITE    |\n",
    "| b             | Màu của nền chữ [2] [3]                                                                 | BLACK    |\n",
    "| s             | Kiểu màu của chữ [2] [4]                                                                | NORMAL   |"
   ]
  },
  {
   "cell_type": "markdown",
   "metadata": {},
   "source": [
    "> **GHI CHÚ**\n",
    "\n",
    "1. Đối với print() gốc của Python, nếu đối số file là tệp không viết được, Python sẽ báo lỗi. Còn PrintWithColor sẽ bỏ qua và trực tiếp in trên màn hình <BR>\n",
    "2. Bạn được quyền viết màu bằng chữ hoa/thường cũng chấp nhận nhé\n",
    "3. Các dải màu được chấp nhận là ['WHITE', 'RED', 'GREEN', 'YELLOW', 'BLUE', 'MAGENTA', 'CYAN', 'BLACK']\n",
    "4. Các kiểu màu được chấp nhận là ['NORMAL', 'DIM', 'BRIGHT']\n",
    "\n",
    "\n",
    "> **LƯU Ý!**    WINDOWS SẼ __**KHÔNG**__ HIỂN THỊ CHÍNH XÁC MÀU TỐI (DIM) VÀ MÀU BÌNH THƯỜNG (NORMAL) <BR> NÊN HẦU NHƯ BẠN SẼ KHÔNG NHÌN THẤY RÕ SỰ KHÁC BIỆT"
   ]
  },
  {
   "cell_type": "markdown",
   "metadata": {},
   "source": [
    "# **CÁC THIẾT LẬP BỔ SUNG ĐI KÈM**"
   ]
  },
  {
   "cell_type": "markdown",
   "metadata": {},
   "source": [
    "> **LƯU Ý**: Nếu một trong các thiết lập này bị sai, chúng sẽ bị trả giá trị về **MẶC ĐỊNH** của từng thiết lập!!!\n",
    "\n",
    "> **CÁCH GỌI:** sử dụng lệnh print.change_settings()"
   ]
  },
  {
   "cell_type": "markdown",
   "metadata": {},
   "source": [
    "## **1. DoNotResetColor** (Không đặt lại màu về giá trị mặc định)"
   ]
  },
  {
   "cell_type": "markdown",
   "metadata": {},
   "source": [
    "> **Tác dụng:** Không reset lại màu sau khi chạy xong lệnh print()<br>\n",
    "> **Giá trị mặc định:** False **(boolean)**<br>\n",
    "> **Các giá trị đồng ý:** WHITE, RED, GREEN, YELLOW, BLUE, MAGENTA, CYAN, BLACK"
   ]
  },
  {
   "cell_type": "code",
   "execution_count": null,
   "metadata": {},
   "outputs": [],
   "source": [
    "print.change_settings(1, True)\n",
    "# Hoặc là\n",
    "print.change_settings('DoNotResetColor', True)\n",
    "# đều như nhau\n",
    "\n",
    "# Khi dùng\n",
    "print('Dòng 1', f='black', b='green')\n",
    "print('Dòng 2 thế nào cũng phải dùng màu từ lệnh print trước!')"
   ]
  },
  {
   "cell_type": "markdown",
   "metadata": {},
   "source": [
    "## **2. DefaultForegroundColor** (Chỉnh giá trị màu chữ mặc định)"
   ]
  },
  {
   "cell_type": "markdown",
   "metadata": {},
   "source": [
    "> **Tác dụng:** Thay đổi màu chữ mặc định (khi dùng xong lệnh print mà **DoNotResetColor = False** thì lệnh print tiếp theo sẽ dùng màu này!)<br>\n",
    "> **Giá trị mặc định:** WHITE **(string)**<br>\n",
    "> **Các giá trị đồng ý:** WHITE, RED, GREEN, YELLOW, BLUE, MAGENTA, CYAN, BLACK"
   ]
  },
  {
   "cell_type": "code",
   "execution_count": null,
   "metadata": {},
   "outputs": [],
   "source": [
    "print.change_settings(2, 'GREEN')\n",
    "# Hoặc là\n",
    "print.change_settings('DefaultForegroundColor', 'GREEN')\n",
    "# đều như nhau\n",
    "\n",
    "# Khi sử dụng\n",
    "print('Chữ màu xanh lục ở đây nhé! Bạn thấy đấy, mình chưa cho đối số f vào lệnh này cả!')"
   ]
  },
  {
   "cell_type": "markdown",
   "metadata": {},
   "source": [
    "## **3. DefaultBackgroundColor** (Chỉnh giá trị màu nền mặc định)"
   ]
  },
  {
   "cell_type": "markdown",
   "metadata": {},
   "source": [
    "> **Tác dụng:** Thay đổi màu nền mặc định (khi dùng xong lệnh print mà **DoNotResetColor = False** thì lệnh print tiếp theo sẽ dùng màu này!)<br>\n",
    "> **Giá trị mặc định:** BLACK **(string)**<br>\n",
    "> **Các giá trị đồng ý:** DIM, NORMAL, BRIGHT"
   ]
  },
  {
   "cell_type": "code",
   "execution_count": null,
   "metadata": {},
   "outputs": [],
   "source": [
    "print.change_settings(3, 'GREEN')\n",
    "# Hoặc là\n",
    "print.change_settings('DefaultBackgroundColor', 'GREEN')\n",
    "# đều như nhau\n",
    "\n",
    "# Khi sử dụng\n",
    "print('Nền màu xanh lục ở đây nhé! Bạn thấy đấy, mình chưa cho đối số b vào lệnh này cả!')"
   ]
  },
  {
   "cell_type": "markdown",
   "metadata": {},
   "source": [
    "## **4. DefaultStyle** (Chỉnh giá trị kiểu màu chữ mặc định)"
   ]
  },
  {
   "cell_type": "markdown",
   "metadata": {},
   "source": [
    "> **Tác dụng:** Thay đổi kiểu màu nền mặc định (khi dùng xong lệnh print mà **DoNotResetColor = False** thì lệnh print tiếp theo sẽ dùng màu này!)<br>\n",
    "> **Giá trị mặc định:** NORMAL **(string)**"
   ]
  },
  {
   "cell_type": "code",
   "execution_count": null,
   "metadata": {},
   "outputs": [],
   "source": [
    "print.change_settings(4, 'NORMAL')\n",
    "# Hoặc là\n",
    "print.change_settings('DefaultStyle', 'NORMAL')"
   ]
  },
  {
   "cell_type": "markdown",
   "metadata": {},
   "source": [
    "## **5. clear_settings()** (Đặt toàn bộ giá trị về mặc định)"
   ]
  },
  {
   "cell_type": "markdown",
   "metadata": {},
   "source": [
    "> **Tác dụng:** Xoá toàn bộ cài đặt của PrintWithColor<br>\n",
    "> **KHÔNG CÓ ĐỐI SỐ!**"
   ]
  },
  {
   "cell_type": "code",
   "execution_count": null,
   "metadata": {},
   "outputs": [],
   "source": [
    "print.clear_settings()"
   ]
  }
 ],
 "metadata": {
  "kernelspec": {
   "display_name": "Python 3.10.5 64-bit",
   "language": "python",
   "name": "python3"
  },
  "language_info": {
   "codemirror_mode": {
    "name": "ipython",
    "version": 3
   },
   "file_extension": ".py",
   "mimetype": "text/x-python",
   "name": "python",
   "nbconvert_exporter": "python",
   "pygments_lexer": "ipython3",
   "version": "3.10.5"
  },
  "orig_nbformat": 4,
  "vscode": {
   "interpreter": {
    "hash": "4d1ec43f07c86fbe6f7e70acea9f2219aa3d522e4c9fd45088322073530a06ca"
   }
  }
 },
 "nbformat": 4,
 "nbformat_minor": 2
}
