{
 "cells": [
  {
   "cell_type": "markdown",
   "metadata": {},
   "source": [
    "# **PrintWithColor**\n",
    "\n",
    "Một wrapper nhỏ nhắn xinh xắn dùng để buff lệnh print() bằng cách thêm tính năng bôi màu cho chữ<br>Đảm bảo mấy đứa newbie Python nhìn xong làm thử báo lỗi tè le sẽ bái phục bạn :>>><br>(Yên tâm, cả PrintWithColor và colorama đều viết bằng Python hết, không có chuyện gọi CPython làm vỡ tương thích đâu!)"
   ]
  },
  {
   "cell_type": "markdown",
   "metadata": {},
   "source": [
    "# **NẠP THƯ VIỆN VÀO**\n",
    "Có 2 cách để nạp vào nhé :> tuỳ bạn chọn"
   ]
  },
  {
   "cell_type": "code",
   "execution_count": null,
   "metadata": {},
   "outputs": [],
   "source": [
    "''' NOTE: Luôn luôn dòng đầu tiên phải là'''\n",
    "import PrintWithColor\n",
    "\n",
    "'''Lý do cho việc này là PrintWithColor có vài thứ bạn có thể chỉnh, và dùng để nạp các thiết lập mặc định, chút nữa mình sẽ nhắc sau'''"
   ]
  },
  {
   "cell_type": "code",
   "execution_count": null,
   "metadata": {},
   "outputs": [],
   "source": [
    "''' 1.  Không ghi đè lệnh print() của Python '''\n",
    "from PrintWithColor import printc\n",
    "\n",
    "'''\n",
    "Hãy dùng nó khi:\n",
    "    Cần giữ lệnh print gốc của Python, nếu printc có lỗi bạn có thể thế tạm print() để chữa cháy\n",
    "'''"
   ]
  },
  {
   "cell_type": "code",
   "execution_count": null,
   "metadata": {},
   "outputs": [],
   "source": [
    "''' 2.  Ghi đè lệnh print() của Python '''  # Khuyên dùng cách này hơn, từ bước 2 mình sẽ viết ví dụ khi dùng cách 2\n",
    "                                            # Nếu chọn cách 1 thì khi chép hướng dẫn ở đây hãy thêm chữ c sau chữ print() nhé :>\n",
    "from PrintWithColor import printc as print\n",
    "\n",
    "'''\n",
    "Hãy dùng nó khi\n",
    "    Bạn không muốn giữ lại lệnh print(), vì đằng nào mình viết để đảm bảo các lệnh dùng print gốc cũng không bị làm sao cả\n",
    "    Lưu ý: nhớ xoá toàn bộ đối số màu trong lệnh print() đi nhé nếu không cần thư viện PrintWithColor\n",
    "'''"
   ]
  },
  {
   "cell_type": "markdown",
   "metadata": {},
   "source": [
    "# **CÚ PHÁP**\n",
    "Gần y chang lệnh print gốc luôn nhé <br> Nhưng sẽ có một chút khác biệt vì **NÓ ĐƯỢC HỖ TRỢ MÀU SẮC!** "
   ]
  },
  {
   "cell_type": "markdown",
   "metadata": {},
   "source": [
    "### **CÚ PHÁP của PrintWithColor**"
   ]
  },
  {
   "cell_type": "code",
   "execution_count": null,
   "metadata": {},
   "outputs": [],
   "source": [
    "'''print(textfrominput = 'Nội dung, có thể dùng nhiều đối số', sep='Dấu phân cách các đối số', end = 'Dấu kết thúc văn bản của lệnh print'\n",
    "        file = None, flush = False, f = \"Màu chữ\", b = \"màu nền, s = kiểu màu chữ)'''\n",
    "\n",
    "\n",
    "import PrintWithColor\n",
    "from PrintWithColor import printc as print\n",
    "\n",
    "'''Đây là một ví dụ'''\n",
    "print(\"Xin chào!\", \"Đây là một dòng chữ màu xanh xanh\", sep = '\\n', f = 'green') # Ở trong Jupyter bạn sẽ không nhìn thấy màu xanh đâu :/"
   ]
  },
  {
   "cell_type": "markdown",
   "metadata": {},
   "source": [
    "### Đối số trong lệnh print() **của Python**"
   ]
  },
  {
   "cell_type": "markdown",
   "metadata": {},
   "source": [
    "| Đối số        | Mô tả                                                                                   | Mặc định |\n",
    "|---------------|-----------------------------------------------------------------------------------------|----------|\n",
    "| textfrominput | Nội dung bạn muốn gõ để hiện thỉ theo mặc định, cho phép sử dụng nhiều đối số           | Bất kỳ   |\n",
    "| sep           | Là dấu phân cách giữa các đối số (nếu chỉ có 1 đối số textfrominput thì ko có tác dụng) | ' '      |\n",
    "| end           | Kí tự kết thúc, chỉ tác dụng khi có 1 đối số/tới đối số cuối cùng của textfrominput     | '\\n'     |\n",
    "| file          | Nơi xuất màn hình, trong wrapper này sẽ sử dụng proxy object từ colorama<br>Lưu ý là nếu đối số file là một tệp viết được, theo như lệnh print() gốc, máy sẽ viết ra tệp. Nếu có tệp mà không viết được thì sẽ __báo lỗi__ [1] | None      |\n",
    "| flush         | Có dọn bộ đệm khi in kết quả không                                                      | False    |"
   ]
  },
  {
   "cell_type": "markdown",
   "metadata": {},
   "source": [
    "### Đối số trong lệnh print() **của PrintWithColor**"
   ]
  },
  {
   "cell_type": "markdown",
   "metadata": {},
   "source": [
    "| Đối số        | Mô tả                                                                                   | Mặc định |\n",
    "|---------------|-----------------------------------------------------------------------------------------|----------|\n",
    "| textfrominput | Nội dung bạn muốn gõ để hiện thỉ theo mặc định, cho phép sử dụng nhiều đối số           | Bất kỳ   |\n",
    "| sep           | Là dấu phân cách giữa các đối số (nếu chỉ có 1 đối số textfrominput thì ko có tác dụng) | ' '      |\n",
    "| end           | Kí tự kết thúc, chỉ tác dụng khi có 1 đối số/tới đối số cuối cùng của textfrominput     | '\\n'     |\n",
    "| file          | Nơi xuất màn hình, trong wrapper này sẽ sử dụng proxy object từ colorama<br>Lưu ý là nếu đối số file là một tệp viết được, theo như lệnh print() gốc, máy sẽ viết ra tệp. Nếu có tệp mà không viết được thì sẽ __vẫn in ra trên màn hình__ [1] | None      |\n",
    "| flush         | Có dọn bộ đệm khi in kết quả không                                                      | False    |\n",
    "||||\n",
    "| f             | Màu của chữ [2] [3]                                                                     | WHITE    |\n",
    "| b             | Màu của nền chữ [2] [3]                                                                 | BLACK    |\n",
    "| s             | Kiểu màu của chữ [2] [4]                                                                | NORMAL   |"
   ]
  },
  {
   "cell_type": "markdown",
   "metadata": {},
   "source": [
    "> **GHI CHÚ**\n",
    "\n",
    "1. Đối với print() gốc của Python, nếu đối số file là tệp không viết được, Python sẽ báo lỗi. Còn PrintWithColor sẽ bỏ qua và trực tiếp in trên màn hình <BR>\n",
    "2. Bạn được quyền viết màu bằng chữ hoa/thường cũng chấp nhận nhé\n",
    "3. Các dải màu được chấp nhận là ['WHITE', 'RED', 'GREEN', 'YELLOW', 'BLUE', 'MAGENTA', 'CYAN', 'BLACK']\n",
    "4. Các kiểu màu được chấp nhận là ['NORMAL', 'DIM', 'BRIGHT']\n",
    "\n",
    "\n",
    "> **LƯU Ý!**    WINDOWS SẼ __**KHÔNG**__ HIỂN THỊ CHÍNH XÁC MÀU TỐI (DIM) VÀ MÀU BÌNH THƯỜNG (NORMAL) <BR> NÊN HẦU NHƯ BẠN SẼ KHÔNG NHÌN THẤY RÕ SỰ KHÁC BIỆT"
   ]
  },
  {
   "cell_type": "markdown",
   "metadata": {},
   "source": [
    "# **CÁC THIẾT LẬP BỔ SUNG**"
   ]
  },
  {
   "cell_type": "markdown",
   "metadata": {},
   "source": [
    "> **LƯU Ý**: Nếu một trong các thiết lập này bị sai, chúng sẽ bị trả giá trị về mặc định của wrapper!!!"
   ]
  },
  {
   "cell_type": "markdown",
   "metadata": {},
   "source": [
    "## **1.** PrintWithColor.**DoNotResetColor**"
   ]
  },
  {
   "cell_type": "code",
   "execution_count": null,
   "metadata": {},
   "outputs": [],
   "source": [
    "import PrintWithColor\n",
    "from PrintWithColor import printc as print\n",
    "\n",
    "PrintWithColor.DoNotResetColor = False\n",
    "\n",
    "print(\"Đây là một dòng chữ màu xanh lục\", f = 'green')\n",
    "print(\"Nếu không để máy tự khôi phục màu mặc định, ok, chúng ta sẽ có chữ này màu xanh lục!\")\n",
    "\n",
    "print(\"\")"
   ]
  },
  {
   "cell_type": "markdown",
   "metadata": {},
   "source": [
    "# SỬA LỖI TỪ JUPYTER\n",
    "**(chỉ áp dụng cho Visual Studio Code)**"
   ]
  },
  {
   "cell_type": "markdown",
   "metadata": {},
   "source": [
    "## **1. SỬA LỖI KHÔNG THỂ IMPORT MODULE TÙY CHỈNH**"
   ]
  },
  {
   "cell_type": "markdown",
   "metadata": {
    "vscode": {
     "languageId": "javascript"
    }
   },
   "source": [
    "Có một số trường hợp các bạn không chạy code được, báo lỗi import tào lao bí đao\n",
    "Mình xin bày cách xử lí lỗi:\n",
    "   \n",
    "Tiện luôn mình tìm thấy câu trả lời ở đây, bạn có thể xem:\n",
    "https://stackoverflow.com/questions/58099362/fail-to-use-imports-in-jupyter-notebook-in-vscode \n",
    "   \n",
    "Việc này có thể giúp bạn tiết kiệm hàng giờ lướt Google tìm cách fix :>\n",
    "\n",
    "Thêm dòng này vào file settings.json\n",
    "Hướng dẫn: bấm tổ hợp Ctrl+Shift+P, gõ user settings json và nhấn Enter\n",
    "Thêm dấu , vào dòng mà bên trên cái dấu } ở cuối file\n",
    "Sau đó xuống dòng và chép dòng này vô\n",
    "    \n",
    "    \"jupyter.notebookFileRoot\": \"${workspaceFolder}\",\n",
    "\n",
    "Cuối cùng nhấn Ctrl+S và đóng file đó đi\n",
    "Nhấn Ctrl+Shift+P và gõ notebook restart và nhấn Enter\n",
    "Rồi chạy lại code là hết\n",
    "\n",
    "Chúc các bạn thành công"
   ]
  }
 ],
 "metadata": {
  "kernelspec": {
   "display_name": "Python 3.10.5 64-bit",
   "language": "python",
   "name": "python3"
  },
  "language_info": {
   "codemirror_mode": {
    "name": "ipython",
    "version": 3
   },
   "file_extension": ".py",
   "mimetype": "text/x-python",
   "name": "python",
   "nbconvert_exporter": "python",
   "pygments_lexer": "ipython3",
   "version": "3.10.5"
  },
  "orig_nbformat": 4,
  "vscode": {
   "interpreter": {
    "hash": "4d1ec43f07c86fbe6f7e70acea9f2219aa3d522e4c9fd45088322073530a06ca"
   }
  }
 },
 "nbformat": 4,
 "nbformat_minor": 2
}
